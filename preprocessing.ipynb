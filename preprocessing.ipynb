{
 "cells": [
  {
   "cell_type": "code",
   "execution_count": 55,
   "id": "02b7e898",
   "metadata": {},
   "outputs": [],
   "source": [
    "import pandas as pd"
   ]
  },
  {
   "cell_type": "markdown",
   "id": "d948dc4b",
   "metadata": {},
   "source": [
    "### Init DataFrame"
   ]
  },
  {
   "cell_type": "code",
   "execution_count": 56,
   "id": "0a5d79c7",
   "metadata": {},
   "outputs": [],
   "source": [
    "column_names = ['age','sex','cp','trestbps','chol','fbs','restecg','thalach','exang','oldpeak','slope','ca','thal','target']\n",
    "\n",
    "df = pd.DataFrame(columns=column_names)"
   ]
  },
  {
   "cell_type": "markdown",
   "id": "8da8ea92",
   "metadata": {},
   "source": [
    "### Load Data, Append to DF"
   ]
  },
  {
   "cell_type": "code",
   "execution_count": 57,
   "id": "7d87327f",
   "metadata": {},
   "outputs": [],
   "source": [
    "cleveland = pd.read_csv('../data/processed.cleveland.data', names=column_names)\n",
    "hungarian = pd.read_csv('../data/processed.hungarian.data', names=column_names)\n",
    "switzerland = pd.read_csv('../data/processed.switzerland.data', names=column_names)\n",
    "va = pd.read_csv('../data/processed.va.data', names=column_names)"
   ]
  },
  {
   "cell_type": "code",
   "execution_count": 58,
   "id": "5d5fc265",
   "metadata": {},
   "outputs": [],
   "source": [
    "df = df.append(cleveland)\n",
    "df = df.append(hungarian)\n",
    "df = df.append(switzerland)\n",
    "df = df.append(va)"
   ]
  },
  {
   "cell_type": "markdown",
   "id": "399d6058",
   "metadata": {},
   "source": [
    "### Convert ? entries to NaN"
   ]
  },
  {
   "cell_type": "code",
   "execution_count": 59,
   "id": "8c0dca25",
   "metadata": {},
   "outputs": [],
   "source": [
    "df = df.apply(pd.to_numeric, errors='coerce')"
   ]
  },
  {
   "cell_type": "code",
   "execution_count": 60,
   "id": "67688fa6",
   "metadata": {},
   "outputs": [
    {
     "name": "stdout",
     "output_type": "stream",
     "text": [
      "<class 'pandas.core.frame.DataFrame'>\n",
      "Int64Index: 920 entries, 0 to 199\n",
      "Data columns (total 14 columns):\n",
      " #   Column    Non-Null Count  Dtype  \n",
      "---  ------    --------------  -----  \n",
      " 0   age       920 non-null    float64\n",
      " 1   sex       920 non-null    float64\n",
      " 2   cp        920 non-null    float64\n",
      " 3   trestbps  861 non-null    float64\n",
      " 4   chol      890 non-null    float64\n",
      " 5   fbs       830 non-null    float64\n",
      " 6   restecg   918 non-null    float64\n",
      " 7   thalach   865 non-null    float64\n",
      " 8   exang     865 non-null    float64\n",
      " 9   oldpeak   858 non-null    float64\n",
      " 10  slope     611 non-null    float64\n",
      " 11  ca        309 non-null    float64\n",
      " 12  thal      434 non-null    float64\n",
      " 13  target    920 non-null    int64  \n",
      "dtypes: float64(13), int64(1)\n",
      "memory usage: 107.8 KB\n"
     ]
    }
   ],
   "source": [
    "df.info()"
   ]
  },
  {
   "cell_type": "markdown",
   "id": "f413edf5",
   "metadata": {},
   "source": [
    "### Save to csv"
   ]
  },
  {
   "cell_type": "code",
   "execution_count": 61,
   "id": "870ba119",
   "metadata": {},
   "outputs": [],
   "source": [
    "df.to_csv('../data/processed.data.csv', na_rep='NULL', index=False)"
   ]
  }
 ],
 "metadata": {
  "kernelspec": {
   "display_name": "Python 3 (ipykernel)",
   "language": "python",
   "name": "python3"
  },
  "language_info": {
   "codemirror_mode": {
    "name": "ipython",
    "version": 3
   },
   "file_extension": ".py",
   "mimetype": "text/x-python",
   "name": "python",
   "nbconvert_exporter": "python",
   "pygments_lexer": "ipython3",
   "version": "3.9.6"
  }
 },
 "nbformat": 4,
 "nbformat_minor": 5
}
